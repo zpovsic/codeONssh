{
 "nbformat": 4,
 "nbformat_minor": 0,
 "metadata": {
  "colab": {
   "name": "colab_starter.ipynb",
   "provenance": [],
   "include_colab_link": true
  },
  "kernelspec": {
   "name": "python3",
   "display_name": "Python 3"
  }
 },
 "cells": [
  {
   "cell_type": "markdown",
   "metadata": {
    "id": "view-in-github",
    "colab_type": "text"
   },
   "source": [
    "<a href=\"https://colab.research.google.com/github/abhishekkrthakur/colabcode/blob/master/colab_starter.ipynb\" target=\"_parent\"><img src=\"https://colab.research.google.com/assets/colab-badge.svg\" alt=\"Open In Colab\"/></a>"
   ]
  },
  {
   "cell_type": "code",
   "metadata": {
    "id": "DXPMB4syxTCF",
    "colab_type": "code",
    "colab": {
     "base_uri": "https://localhost:8080/",
     "height": 228
    },
    "outputId": "c2ef6e4d-16f6-410b-e4d9-e480a89469f5",
    "pycharm": {
     "is_executing": true
    }
   },
   "source": [
    "! pip install codeONssh"
   ],
   "execution_count": null,
   "outputs": []
  },
  {
   "cell_type": "code",
   "metadata": {
    "id": "jPNTUYTDxbkC",
    "colab_type": "code",
    "colab": {}
   },
   "source": [
    "from codeONssh import CodeONssh"
   ],
   "execution_count": 2,
   "outputs": []
  },
  {
   "cell_type": "code",
   "metadata": {
    "id": "M6bGiCAGxilQ",
    "colab_type": "code",
    "colab": {
     "base_uri": "https://localhost:8080/",
     "height": 147
    },
    "outputId": "5c6803f3-b9b3-4de3-954d-9e53b5b83f42",
    "pycharm": {
     "is_executing": true,
     "name": "#%%\n"
    }
   },
   "source": [
    "CodeONssh(port=10000, password=\"VBSVBSvbs3\", mount_drive=True)"
   ],
   "execution_count": null,
   "outputs": []
  }
 ]
}